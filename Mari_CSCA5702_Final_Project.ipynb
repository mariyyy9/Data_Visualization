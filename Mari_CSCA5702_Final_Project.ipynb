{
 "cells": [
  {
   "cell_type": "raw",
   "id": "cbd5d146-acb4-4011-a44c-bcca80bab06d",
   "metadata": {},
   "source": [
    "For my final project, I decided to leverage the knowledge I’ve gained in this course to illustrate the correlation between agriculture, supply chains, food security, and life expectancy. The reason I chose this topic is that agriculture has always resonated with me. Growing up on a farm, I developed a deep appreciation for food - seeing the process from planting and harvesting to being served on the table. I’m hopeful that, with advancements in technology, we can help people access food, regardless of where they are, viewing it as a necessity rather than a luxury.\n",
    "\n",
    "For this assignment, I first looked into the percentage of the population that is undernourished. Then, I explored why certain regions are severely undernourished. Is it because there isn’t enough labor working in the fields? Is it due to a lower allocation of protein production, or is it because insufficient transportation makes it difficult for harvested goods to reach consumers? Finally, I am curious whether there is a direct correlation between food supply and life expectancy.\n",
    "\n",
    "Disclaimer: \n",
    "- The term \"Sub-Saharan Africa\" used in this project refers to the geographical region of the continent of Africa that lies south of the Sahara.\n",
    "- All of the data of this assignment is coming from Out World in Data (https://ourworldindata.org/)\n",
    "- This project and all relevant files can also be retrived from my GitHub: "
   ]
  },
  {
   "cell_type": "code",
   "execution_count": 97,
   "id": "c96fb0db-9184-421c-bd71-df0303a8f5f6",
   "metadata": {},
   "outputs": [
    {
     "ename": "TypeError",
     "evalue": "'Chart' object is not callable",
     "output_type": "error",
     "traceback": [
      "\u001b[0;31m---------------------------------------------------------------------------\u001b[0m",
      "\u001b[0;31mTypeError\u001b[0m                                 Traceback (most recent call last)",
      "Cell \u001b[0;32mIn[97], line 5\u001b[0m\n\u001b[1;32m      2\u001b[0m \u001b[38;5;28;01mimport\u001b[39;00m \u001b[38;5;21;01maltair\u001b[39;00m \u001b[38;5;28;01mas\u001b[39;00m \u001b[38;5;21;01malt\u001b[39;00m\n\u001b[1;32m      4\u001b[0m t1 \u001b[38;5;241m=\u001b[39m pd\u001b[38;5;241m.\u001b[39mread_csv(\u001b[38;5;124m\"\u001b[39m\u001b[38;5;124mprevalence-of-undernourishment.csv\u001b[39m\u001b[38;5;124m\"\u001b[39m)\n\u001b[0;32m----> 5\u001b[0m alt\u001b[38;5;241m.\u001b[39mChart(t1)\u001b[38;5;241m.\u001b[39mmark_line()\u001b[38;5;241m.\u001b[39mencode(\n\u001b[1;32m      6\u001b[0m     x\u001b[38;5;241m=\u001b[39m\u001b[38;5;124m\"\u001b[39m\u001b[38;5;124mYear:0\u001b[39m\u001b[38;5;124m\"\u001b[39m,  \u001b[38;5;66;03m# Percent is quantitative\u001b[39;00m\n\u001b[1;32m      7\u001b[0m     y\u001b[38;5;241m=\u001b[39m\u001b[38;5;124m\"\u001b[39m\u001b[38;5;124mPercent:Q\u001b[39m\u001b[38;5;124m\"\u001b[39m      \u001b[38;5;66;03m# Year is ordinal or discrete\u001b[39;00m\n\u001b[1;32m      8\u001b[0m )\n",
      "\u001b[0;31mTypeError\u001b[0m: 'Chart' object is not callable"
     ]
    }
   ],
   "source": [
    "import pandas as pd\n",
    "import altair as alt\n",
    "\n",
    "t1 = pd.read_csv(\"prevalence-of-undernourishment.csv\")\n",
    "alt.Chart(t1).mark_line().encode(\n",
    "    x=\"Year:0\",  # Percent is quantitative\n",
    "    y=\"Percent:Q\"      # Year is ordinal or discrete\n",
    ")\n"
   ]
  },
  {
   "cell_type": "code",
   "execution_count": null,
   "id": "d5e78ab8-a914-4810-82b6-5f99d3cfcf15",
   "metadata": {},
   "outputs": [],
   "source": []
  },
  {
   "cell_type": "code",
   "execution_count": null,
   "id": "2db4989d-d1fc-4b1f-8c4b-cc66e8d7bffa",
   "metadata": {},
   "outputs": [],
   "source": []
  },
  {
   "cell_type": "code",
   "execution_count": null,
   "id": "4ec57d1e-dd88-431d-b06e-4bfa3ec1ef5f",
   "metadata": {},
   "outputs": [],
   "source": []
  }
 ],
 "metadata": {
  "kernelspec": {
   "display_name": "Python 3 (ipykernel)",
   "language": "python",
   "name": "python3"
  },
  "language_info": {
   "codemirror_mode": {
    "name": "ipython",
    "version": 3
   },
   "file_extension": ".py",
   "mimetype": "text/x-python",
   "name": "python",
   "nbconvert_exporter": "python",
   "pygments_lexer": "ipython3",
   "version": "3.11.7"
  }
 },
 "nbformat": 4,
 "nbformat_minor": 5
}
